{
 "cells": [
  {
   "cell_type": "markdown",
   "metadata": {},
   "source": [
    "# Introduction"
   ]
  },
  {
   "cell_type": "markdown",
   "metadata": {},
   "source": [
    "Welcome to a Jupyter Notebook!\n",
    "\n",
    "Jupyter notebooks contain a series of cells of different types. The most common cells are Code cells and Markdown cells. You can press the \"+\" button above to create a new cell. By default new cells are code cells. The dropdown list above allows you to change the type of cell you have selected.\n"
   ]
  },
  {
   "cell_type": "markdown",
   "metadata": {},
   "source": [
    "In this notebook you will get an introduction to how to create and use Jupyter notebooks. You will:\n",
    "\n",
    "* Create markdown cells for taking notes or adding detailed comments\n",
    "* Create and run code cells\n",
    "    * Import libraries/toolboxes\n",
    "    * Load and save numeric and text data\n",
    "* Complete and run exmaples\n",
    "    * Numerical computing (matrix-multiply)\n",
    "    * Text processing\n",
    "    * Loading and plotting results\n",
    "* Export a Jupyter Notebook as a script\n",
    "* Use the Jupyter Text Editor to edit your script\n",
    "* Use the Jupyter Terminal to run your script at the command line\n",
    "\n",
    "**Any instructions for you to do something in this Warmup will be in bold**.\n",
    "\n",
    "For a basic tutorial in how to use Jupyter Notebooks, see:\n",
    "* https://www.dataquest.io/blog/jupyter-notebook-tutorial/"
   ]
  },
  {
   "cell_type": "markdown",
   "metadata": {},
   "source": [
    "Before we start, it is important to know how to shut down your Jupyter Notebook session. Jupyter notebooks run using specifically allocated compute resources on the MIT SuperCloud system. This means no one else can use those resources while your Jupyter session is running. For this reason, it is very important to fully shut down your Jupyter Notebooks when you are done using them. This will relinquish the resources they are running on and allow others to make use of them.\n",
    "\n",
    "To shut down your notebook, click on the \"Shutdown\" button in the top right corner of any Jupyter Notebook page. You can also click the \"Shutdown\" button on the [Jupyter launching page](https://txe1-portal.mit.edu/jupyter/jupyter_notebook.php). Do not do this until you have saved your work or any important results, it will shut down *all* of your running notebooks."
   ]
  },
  {
   "cell_type": "markdown",
   "metadata": {},
   "source": [
    "## When to use Jupyter Notebooks"
   ]
  },
  {
   "cell_type": "markdown",
   "metadata": {},
   "source": [
    "Jupyter notebooks can be very useful for certain tasks. They are great for developing code, interactive analysis, or creating demonstrations (such as this notebook).\n",
    "\n",
    "If you find you are going through the notebook running all cells without editing, or your notebook takes so long to run that you are taking frequent coffee breaks, it may make more sense to convert your notebook into a runable script that you can run from the command line. Once you have a runable script, you can submit that script as a job on the system, and it can run without your input. As long as you are saving your results, you can collect those results in the same directory that you run the notebook in.\n",
    "\n",
    "We will go over how to save data and variables, write results to files, and export notebooks as runable scripts."
   ]
  },
  {
   "cell_type": "markdown",
   "metadata": {},
   "source": [
    "# Intro to Markdown"
   ]
  },
  {
   "cell_type": "markdown",
   "metadata": {},
   "source": [
    "This is a Markdown cell. It can be used to write instructions or notes. You can also do fancy formatting. Check out this [cheatsheet](https://github.com/adam-p/markdown-here/wiki/Markdown-Here-Cheatsheet) for examples."
   ]
  },
  {
   "cell_type": "markdown",
   "metadata": {},
   "source": [
    "Markdown cells can be in either edit or display mode. Double click on a markdown cell to enter edit mode, and press SHIFT+ENTER to display. Try it now!"
   ]
  },
  {
   "cell_type": "markdown",
   "metadata": {},
   "source": [
    "# Working with Code Cells"
   ]
  },
  {
   "cell_type": "markdown",
   "metadata": {},
   "source": [
    "The most important function of the Jupyter Notebook is the ability to write and execute code cells.\n",
    "\n",
    "This first cell displays the text \"Hello!\". You can run it by selecting the cell and pressing SHIFT+ENTER. Try editing the display statment  and running it again."
   ]
  },
  {
   "cell_type": "code",
   "execution_count": 1,
   "metadata": {},
   "outputs": [
    {
     "name": "stdout",
     "output_type": "stream",
     "text": [
      "Hello!\n"
     ]
    }
   ],
   "source": [
    "disp('Hello!')"
   ]
  },
  {
   "cell_type": "markdown",
   "metadata": {},
   "source": [
    "If you ever get stuck in Octave and need help you can consult the _[Octave documentation](https://octave.org/doc/interpreter/)_ If you know the name of the function that you need help with, or have a good guess of what it is, you can type 'help' followed by the name of the function. Run the following cell to see the documentation for the disp function."
   ]
  },
  {
   "cell_type": "code",
   "execution_count": 2,
   "metadata": {},
   "outputs": [
    {
     "name": "stdout",
     "output_type": "stream",
     "text": [
      "'disp' is a built-in function from the file libinterp/corefcn/pr-output.cc\n",
      "\n",
      " -- disp (X)\n",
      "     Display the value of X.\n",
      "\n",
      "     For example:\n",
      "\n",
      "          disp (\"The value of pi is:\"), disp (pi)\n",
      "\n",
      "               -| the value of pi is:\n",
      "               -| 3.1416\n",
      "\n",
      "     Note that the output from 'disp' always ends with a newline.\n",
      "\n",
      "     If an output value is requested, 'disp' prints nothing and returns\n",
      "     the formatted output in a string.\n",
      "\n",
      "     See also: fdisp.\n",
      "\n",
      "Additional help for built-in functions and operators is\n",
      "available in the online version of the manual.  Use the command\n",
      "'doc <topic>' to search the manual index.\n",
      "\n",
      "Help and information about Octave is also available on the WWW\n",
      "at http://www.octave.org and via the help@octave.org\n",
      "mailing list.\n"
     ]
    }
   ],
   "source": [
    "help disp"
   ]
  },
  {
   "cell_type": "markdown",
   "metadata": {},
   "source": [
    "## Matrix Multiply"
   ]
  },
  {
   "cell_type": "markdown",
   "metadata": {},
   "source": [
    "Matrices are the primary data structure within MATLAB and Octave and there are many ways to create matrices. In the code block below I use brackets `[ ]` and semicolons `;` to indicate the rows of the matrices.  \n",
    "\n",
    "I use the `disp` command to print out the matrix and the `whos` command to get information on the name, matrix dimensions (size), size of the object, in bytes, and data type.\n",
    "\n",
    "If you only need to know the size of the matrix you can use the command `size`."
   ]
  },
  {
   "cell_type": "code",
   "execution_count": 3,
   "metadata": {},
   "outputs": [
    {
     "name": "stdout",
     "output_type": "stream",
     "text": [
      "   1   2   3\n",
      "   4   5   6\n",
      "   7   8   9\n",
      "Variables in the current scope:\n",
      "\n",
      "   Attr Name        Size                     Bytes  Class\n",
      "   ==== ====        ====                     =====  ===== \n",
      "        A           3x3                         72  double\n",
      "\n",
      "Total is 9 elements using 72 bytes\n",
      "\n"
     ]
    }
   ],
   "source": [
    "A = [1 2 3; 4 5 6; 7 8 9];\n",
    "disp(A)\n",
    "whos('A')"
   ]
  },
  {
   "cell_type": "markdown",
   "metadata": {},
   "source": [
    "In the code block below, create two matrics, \"a\" and \"b\". (Uncomment the lines by removing the % and fill out the line). Make sure the inner dimensions match so you can multiply them."
   ]
  },
  {
   "cell_type": "code",
   "execution_count": 7,
   "metadata": {},
   "outputs": [
    {
     "name": "stdout",
     "output_type": "stream",
     "text": [
      "   1   5   7\n",
      "   2   6   9\n",
      "   2   4   8   3\n",
      "   1   3   6   3\n",
      "   4   9   3   9\n"
     ]
    }
   ],
   "source": [
    "%a = ;\n",
    "%b = ;\n",
    "disp(a)\n",
    "disp(b)"
   ]
  },
  {
   "cell_type": "markdown",
   "metadata": {},
   "source": [
    "Now that you have created your matrices, perform the matrix multiplication.  A new matrix, C, should hold the result of the matrix multiplication."
   ]
  },
  {
   "cell_type": "code",
   "execution_count": 8,
   "metadata": {},
   "outputs": [
    {
     "name": "stdout",
     "output_type": "stream",
     "text": [
      "C =\n",
      "    35    82    59    81\n",
      "    46   107    79   105\n"
     ]
    }
   ],
   "source": [
    "% Your code here\n"
   ]
  },
  {
   "cell_type": "markdown",
   "metadata": {},
   "source": [
    "## Saving data and variables"
   ]
  },
  {
   "cell_type": "markdown",
   "metadata": {},
   "source": [
    "In this section, we are going to create an array of numerical data and save it to a file.  We will use the default file type for Octave/MATLAB, which is the mat file.  If you need to save the data in a format that can be opened by other programs, such as formatted or numerical csv data, use the ```help fprintf``` and ```help csvwrite``` commands to get more information.\n",
    "\n",
    "To save data to a mat file we will use the ```save``` command. The save command takes a filename and a variable list.  In this case our file name is *sincosInputData*, and the variable is *my2DsincosData*.\n",
    "\n",
    "Note that by default the data is saved in the directory where you are running your Jupyter Notebook. If you wish to save it in another folder you need to include the path as part of the file name."
   ]
  },
  {
   "cell_type": "code",
   "execution_count": 9,
   "metadata": {},
   "outputs": [],
   "source": [
    "% set the lengths of the sides\n",
    "xlen = 1.0;\n",
    "\n",
    "% set the resolution by setting the number of grid points\n",
    "nx = 32;\n",
    "\n",
    "% compute the x locations\n",
    "for i = 1:nx\n",
    "x(i) = i/nx;\n",
    "end\n",
    "\n",
    "% compute the function\n",
    "my2DsincosData = sin(2*pi*x)'*cos(2*pi*x);\n",
    "filename = 'sincosInputData';\n",
    "save(filename,'my2DsincosData');"
   ]
  },
  {
   "cell_type": "markdown",
   "metadata": {},
   "source": [
    "## Reading data from a file"
   ]
  },
  {
   "cell_type": "markdown",
   "metadata": {},
   "source": [
    "In the previous section we experienced the simplicity of saving data to a MATLAB/Octave matfile. Since the matfile is the default storage format for MATLAB/Octave, the interface has been designed to be simple. To load the data from the mat file, we use the load command.  There are two primary ways to use the load command:\n",
    "\n",
    "```octave\n",
    "\n",
    "load sincosInputData\n",
    "\n",
    "```\n",
    "\n",
    "loads the entire file.  Once the file is loaded you can use the ```whos``` command to see all of the data in your workspace, but there is no clear way to see what variables were part of the loaded file.\n",
    "\n",
    "```octave\n",
    "\n",
    "s = load('sincosInputData', variable1, variable2,...,variableN)\n",
    "\n",
    "```\n",
    "\n",
    "loads the variables into the struct, s.  The struct can be queried using the ```fieldnames``` command.\n",
    "\n",
    "Since we are using a Jupyter notebook and the data we are loading is already in your workspace, we will use the second method so that the data is saved within a separate variable.\n",
    "\n",
    "If you need to load numerical, text use the ```help fread``` command to get more information.  For numerical csv data, use ```help csvread``` to get more information."
   ]
  },
  {
   "cell_type": "code",
   "execution_count": 10,
   "metadata": {},
   "outputs": [
    {
     "name": "stdout",
     "output_type": "stream",
     "text": [
      "field = \n",
      "{\n",
      "  [1,1] = my2DsincosData\n",
      "}\n",
      "Variables in the current scope:\n",
      "\n",
      "   Attr Name           Size                     Bytes  Class\n",
      "   ==== ====           ====                     =====  ===== \n",
      "        inputData     32x32                      8192  double\n",
      "\n",
      "Total is 1024 elements using 8192 bytes\n",
      "\n"
     ]
    }
   ],
   "source": [
    "s = load('sincosInputData');\n",
    "field = fieldnames(s)\n",
    "inputData = s.my2DsincosData;\n",
    "whos inputData"
   ]
  },
  {
   "cell_type": "markdown",
   "metadata": {},
   "source": [
    "## Plotting Data"
   ]
  },
  {
   "cell_type": "markdown",
   "metadata": {},
   "source": [
    "We just saved and loaded data that we generated in a previous section. Let's check our input data by plotting it so that we know what we are working with.\n",
    "\n",
    "MATLAB/Octave have many plotting routines:\n",
    "<ul>\n",
    "    <li> ```plot``` for X-Y plots </li>\n",
    "    <li> ```contourf``` for contour plots </li>\n",
    "    <li> ```surf``` for surface plots </li>\n",
    "</ul>\n",
    "\n",
    "Since we have a function of 2 dimensions, with values at each grid point in the 2 dimensional space, we will use ```surf``` to plot the input data.\n",
    "    \n"
   ]
  },
  {
   "cell_type": "code",
   "execution_count": 18,
   "metadata": {},
   "outputs": [
    {
     "data": {
      "image/png": "[encoded data removed]",
      "text/plain": [
       "<IPython.core.display.Image object>"
      ]
     },
     "metadata": {},
     "output_type": "display_data"
    }
   ],
   "source": [
    "% Plot the input data\n",
    "surf(inputData)\n",
    "title('Two Dimensional Sine-Cosine: sin(2*pi*x)''*cos(2*pi*x)')"
   ]
  },
  {
   "cell_type": "markdown",
   "metadata": {},
   "source": [
    "  Let's see what the data looks like if we use ```contourf```."
   ]
  },
  {
   "cell_type": "code",
   "execution_count": 20,
   "metadata": {},
   "outputs": [
    {
     "data": {
      "image/png": "[encoded data removed]",
      "text/plain": [
       "<IPython.core.display.Image object>"
      ]
     },
     "metadata": {},
     "output_type": "display_data"
    }
   ],
   "source": [
    "contourf(inputData)\n",
    "title('Input Data')"
   ]
  },
  {
   "cell_type": "markdown",
   "metadata": {},
   "source": [
    "If you want to save these plots, check out either the `print` or `saveas` functions."
   ]
  },
  {
   "cell_type": "markdown",
   "metadata": {},
   "source": [
    "# Exporting your notebook as a script"
   ]
  },
  {
   "cell_type": "markdown",
   "metadata": {},
   "source": [
    "Jupyter notebooks are excellent for code development and creating interactive demonstrations. There comes a time when it is more convenient or necessary to run your code as a script. Rather than copying and pasting your code into a file, you can export your notebook as a script.\n",
    "\n",
    "To export the script to download to your computer, you can click File -> Download As -> Octave (.m) .\n",
    "\n",
    "Most of the time you'll want the script on supercloud. To do that, you can use the command `jupyter nbconvert --to script [NOTEBOOK_NAME].ipynb` at the command line. You can run a shell command in an Octave/Matlab Jupyter notebook by using the `system` function, as you can see below.\n",
    "\n",
    "Note that when you export a notebook as a script, comments in code blocks will be preserved, but text in Markdown blocks will not."
   ]
  },
  {
   "cell_type": "markdown",
   "metadata": {},
   "source": [
    "**Run the following code block to export this notebook as a script.**"
   ]
  },
  {
   "cell_type": "code",
   "execution_count": 19,
   "metadata": {},
   "outputs": [
    {
     "name": "stdout",
     "output_type": "stream",
     "text": [
      "[NbConvertApp] Converting notebook JupyterWarmup_Octave.ipynb to script\n",
      "[NbConvertApp] Writing 813 bytes to JupyterWarmup_Octave.m\n"
     ]
    }
   ],
   "source": [
    "system('jupyter nbconvert --to script JupyterWarmup_Octave.ipynb');"
   ]
  },
  {
   "cell_type": "markdown",
   "metadata": {},
   "source": [
    "# Text Editor"
   ]
  },
  {
   "cell_type": "markdown",
   "metadata": {},
   "source": [
    "Jupyter includes a text editor that can be used to edit code and text files. You can open existing text files or create new ones.\n",
    "1. Go to the file browser tab.\n",
    "2. From here you can either create a new text file or open an existing one.\n",
    "    1. To open a new text file, click on the \"New\" button in the top right corner and select \"Text File\".\n",
    "    2. To open an existing text file, check the box next to the file that you would like to open (make sure no other boxes are checked). Then click \"Edit\" at the top of the page. You can also just click on the name of the file (although if Jupyter does not identify it as a text file it may download the file rather than open it in the editor).\n",
    "3. Edit the file as needed. Save frequently by clicking File->Save or by pressing CMD+S or CONTROL+S on your keyboard.\n",
    "4. The text editor will do syntax highlighting. It will auto-detect the language based on the file extension, and the language will be displayed in the top right corner. If the correct language is not detected (Matlab/Octave files are not identified correctly), you can click \"Language\" at the top and select the right language. Note that Matlab is not included, but Octave is."
   ]
  },
  {
   "cell_type": "markdown",
   "metadata": {},
   "source": [
    "**Open the script you exported from this notebook. Remove the \"system(jupyter nbconvert ...)\" line and make any other edits you'd like to (you may want to use the `print` function to save your plots as image files).**"
   ]
  },
  {
   "cell_type": "markdown",
   "metadata": {},
   "source": [
    "# Terminal Windows and Linux Shell"
   ]
  },
  {
   "cell_type": "markdown",
   "metadata": {},
   "source": [
    "While Jupyter notebooks provide an easy to use environment for prototyping and development, there are times when performance requirements encourage the use of the Linux command line. Fortunately, Jupyter notebooks provide a browser based interface to the command line.\n",
    "\n",
    "1. Go to the file browser tab.\n",
    "2. On the right hand side, above the file list, look for the pull down tab that says \"New\".\n",
    "3. Click on \"New\" and scroll to the bottom to click on \"Terminal\".\n",
    "4. If your terminal opens and the first line starts with something like `sh-4.4$`, type 'bash' at the command prompt and hit enter.\n",
    "5. You should see a new prompt that includes `{yourUserID}@`.\n",
    "6. You might want to pull this tab out so that it is in a different window so that you can see this notebook and the terminal side by side.\n",
    "\n",
    "<img src=\"images/terminal.png\" alt=\"Terminal Image\" style=\"height: 300px;\"/>\n",
    "\n",
    "If you are not familiar with the Linux command line we suggest you familiarize yourself with some of the basic Linux commands in the tab below. Feel free to try them out in a terminal window as you are familiarizing yourself."
   ]
  },
  {
   "cell_type": "markdown",
   "metadata": {},
   "source": [
    "**Navigate to the directory containing this notebook (you can get the path from the the file browser tab on the bar just above the list of files). Run the script you exported by excuting `octave --traditional JupyterWarmup_Octave.m` at the command line. If you run into any errors, edit your script in the text editor tab and try to run the script again. Remember to save your script before re-running! (Tip: If you get errors at the plotting step, add the line `graphics_toolkit(\"gnuplot\")` to the top of your script)**\n",
    "\n",
    "If you have any trouble navigating to the directory containing this notebook, check out the Basic Linux Commands tab below."
   ]
  },
  {
   "cell_type": "markdown",
   "metadata": {},
   "source": [
    "## Basic Linux Commands ##"
   ]
  },
  {
   "cell_type": "markdown",
   "metadata": {},
   "source": [
    "Most Linux commands deal with *directories* and *files*. A *directory*, synonymous to a folder, contains files and other directories. The list of directories that lead to a particular directory or file is called its *path*. In Linux, directories on a path are separated by forward slashes '/'.\n",
    "\n",
    "Anytime after you start typing a Linux command you can press the \"tab\" button your your keyboard. This called tab-complete, and will try to autocomplete what you are typing. This is particularly helpful when typing out long directory paths and file names. Pressing \"Tab\" once will complete if there is a single completion, pressing it twice will list all potential completions. It is a bit difficult to explain in text, but you can try it out yourself and watch the short demnstration [here](https://en.wikipedia.org/wiki/Command-line_completion).\n",
    "\n",
    "Finally, below is a list of Linux Commands. Try them out for yourself in a Command Line Terminal tab.\n",
    "\n",
    "* Creating, navigating and viewing directories:\n",
    "    * `pwd`: tells you the full path of the directory you are currently in\n",
    "    * `mkdir dirname`: creates a directory with the name \"dirname\"\n",
    "    * `cd dirname`: change directory to directory \"dirname\"\n",
    "    * `cd ../`: takes you up one level\n",
    "    * `ls`: lists the files in the directory\n",
    "        * `ls -a`: lists all files including hidden files\n",
    "        * `ls -l`: lists files in \"long format\" including ownership and date of last update\n",
    "        * `ls -t`: lists files by date stamp, most recently updated file first\n",
    "        * `ls -tr`: lists files by dates stamp in reverse order, most recently updated file is listed last (this is useful if you have a lot of files, you want to know which file you changed last and the list of files results in a scrolling window)\n",
    "        * `ls dirname`: lists the files in the directory \"dirname\"\n",
    "* Viewing files\n",
    "    * `more filename`: shows the first part of a file, hitting the space bar allows you to scroll through the rest of the file, q will cause you to exit out of the file\n",
    "    * `less filename`: allows you to scroll through the file, forward and backward, using the arrow keys\n",
    "    * `tail filename`: shows the last 10 lines of a file (useful when you are monitoring a logfile or output file to see that the values are correct)\n",
    "        * `tail -<number\\> filename`: show you the last &lt;number> lines of a file.\n",
    "        * `tail -f filename`: shows you new lines as they are written to the end of a file. Press CMD+C or Control+C to exit.\n",
    "* Copying, moving, renaming, and deleting files\n",
    "    * `mv filename dirname`: moves filename to directory dirname.\n",
    "        * `mv filename1 filename2`: moves filename1 to filename2, in essence renames the file. The date and time are not changed by the mv command.\n",
    "    * cp filename dirname: copies to directory dirname.\n",
    "        * `cp filename1 filename2`: copies filename1 to filename2. The date stamp on filename2 will be the date/time that the file was moved\n",
    "    * `rm filename`: removes (deletes) the file"
   ]
  },
  {
   "cell_type": "markdown",
   "metadata": {},
   "source": [
    "# Best Practices"
   ]
  },
  {
   "cell_type": "markdown",
   "metadata": {},
   "source": [
    "In this section we summarize some important take-aways that will help you be successful using Jupyter.\n",
    "\n",
    "1. Shut down your notebooks when you are done.\n",
    "    * Notebooks on the MIT Supercloud take up computing resources. When you leave Jupyter running, you are leaving resources occupied that could be used by someone else.\n",
    "    * To shut down your notebook, click on the \"Shutdown\" button in the top right of every Jupyter page, or click the \"Shutdown\" button on the [Jupyter launching page](https://txe1-portal.mit.edu/jupyter/jupyter_notebook.php).\n",
    "    * Make sure you save your notebooks and any important data before shutting down!\n",
    "    * See [Section 1](#Introduction) for more information.\n",
    "2. Save frequently.\n",
    "    * Save your notebook or text file by clicking File->Save or CMD+S/Control+S.\n",
    "    * Save important data or results as files on the filesystem. Work save or write commands into your code wherever you produce an important result. In Julia you can save in a text file, or save Julia variables using the JLD or MAT packages.\n",
    "    * See [Section 3.2](#Saving-data-and-variables) for more information.\n",
    "3. Export your notebook as a script.\n",
    "    * When your are done developing your code and just need to run it without making too many edits, export your notebook as a script.\n",
    "    * Save your notebook before exporting to get any recent changes.\n",
    "    * In Octave/MATLAB, you can type `system('jupyter nbconvert --to script JupyterWarmup_Octave.ipynb')` in a code block to export from within the notebook. Be sure to remove this line from your Octave/MATLAB script before running it.\n",
    "    * See [Section 4](#Exporting-your-notebook-as-a-script) for more information.\n",
    "4. Know when to use a batch job.\n",
    "    * Jupyter notebooks are great for development and running interactive analysis, but if you have long running code you may want to submit that code as a batch job instead.\n",
    "    * Batch jobs will run the code you submit and exit independent of user input.\n",
    "    * Export your notebook as a script use as a starting point for a batch job.\n",
    "    * See [this page](https://supercloud.mit.edu/submitting-jobs) for more information on running batch jobs.\n",
    "    * You can use the Jupyter Terminal to submit batch jobs, or submit from the login node through a terminal on your desktop.\n",
    "    * See [Section 1.1](#When-to-use-Jupyter-Notebooks) for more information."
   ]
  },
  {
   "cell_type": "code",
   "execution_count": null,
   "metadata": {},
   "outputs": [],
   "source": []
  }
 ],
 "metadata": {
  "kernelspec": {
   "display_name": "Octave",
   "language": "octave",
   "name": "octave"
  },
  "language_info": {
   "file_extension": ".m",
   "help_links": [
    {
     "text": "GNU Octave",
     "url": "https://www.gnu.org/software/octave/support.html"
    },
    {
     "text": "Octave Kernel",
     "url": "https://github.com/Calysto/octave_kernel"
    },
    {
     "text": "MetaKernel Magics",
     "url": "https://github.com/calysto/metakernel/blob/master/metakernel/magics/README.md"
    }
   ],
   "mimetype": "text/x-octave",
   "name": "octave",
   "version": "4.2.1"
  },
  "latex_envs": {
   "LaTeX_envs_menu_present": true,
   "autoclose": false,
   "autocomplete": true,
   "bibliofile": "biblio.bib",
   "cite_by": "apalike",
   "current_citInitial": 1,
   "eqLabelWithNumbers": true,
   "eqNumInitial": 1,
   "hotkeys": {
    "equation": "Ctrl-E",
    "itemize": "Ctrl-I"
   },
   "labels_anchors": false,
   "latex_user_defs": false,
   "report_style_numbering": false,
   "user_envs_cfg": false
  },
  "toc": {
   "base_numbering": 1,
   "nav_menu": {},
   "number_sections": true,
   "sideBar": true,
   "skip_h1_title": false,
   "title_cell": "Table of Contents",
   "title_sidebar": "Contents",
   "toc_cell": false,
   "toc_position": {},
   "toc_section_display": true,
   "toc_window_display": false
  },
  "varInspector": {
   "cols": {
    "lenName": 16,
    "lenType": 16,
    "lenVar": 40
   },
   "kernels_config": {
    "python": {
     "delete_cmd_postfix": "",
     "delete_cmd_prefix": "del ",
     "library": "var_list.py",
     "varRefreshCmd": "print(var_dic_list())"
    },
    "r": {
     "delete_cmd_postfix": ") ",
     "delete_cmd_prefix": "rm(",
     "library": "var_list.r",
     "varRefreshCmd": "cat(var_dic_list()) "
    }
   },
   "types_to_exclude": [
    "module",
    "function",
    "builtin_function_or_method",
    "instance",
    "_Feature"
   ],
   "window_display": false
  }
 },
 "nbformat": 4,
 "nbformat_minor": 2
}
